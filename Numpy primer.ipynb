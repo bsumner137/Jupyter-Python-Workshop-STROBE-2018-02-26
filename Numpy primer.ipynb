{
 "cells": [
  {
   "cell_type": "markdown",
   "metadata": {},
   "source": [
    "# A Numpy Primer\n",
    "\n",
    ">  *[NumPy] is everywhere. It is all around us. Even now, in this very room. You can see it\n",
    "> when you look out your window or when you turn on your television. You can feel it when \n",
    "> you go to work … when you go to church … when you pay your taxes.*\n",
    "\n",
    "     - Morpheus, The Matrix\n",
    "\n",
    "[Source](https://www.safaribooksonline.com/library/view/elegant-scipy/9781491922927/ch01.html)\n",
    "\n",
    "## What is Numpy\n",
    "\n",
    "Numpy is the core package for arrays computation in Python.\n",
    "In this notebook we will review a few basic concepts on how to use Numpy arrays.\n",
    "\n",
    "## Importing Numpy\n",
    "\n",
    "Python has only a small number of [builtins](https://docs.python.org/3/library/functions.html). All the other functions are organized in packages\n",
    "that need to be imported. Here we import numpy:"
   ]
  },
  {
   "cell_type": "code",
   "execution_count": null,
   "metadata": {},
   "outputs": [],
   "source": [
    "import numpy as np"
   ]
  },
  {
   "cell_type": "code",
   "execution_count": null,
   "metadata": {},
   "outputs": [],
   "source": [
    "np.__version__  # most packages have a \"version string\""
   ]
  },
  {
   "cell_type": "markdown",
   "metadata": {},
   "source": [
    "All the functions provided by numpy are now accessible with the prefix `np.`.\n",
    "\n",
    "<div class=\"alert alert-info\">\n",
    "<b>Running a cell:</b><br>\n",
    "You can run a cell with <code>SHIFT+ENTER</code>. See menu <i>Help -> User Interface Tour</i> for more info.\n",
    "</div>\n",
    "\n",
    "<div class=\"alert alert-info\">\n",
    "<b>Autocompletion:</b><br>\n",
    "Use <code>TAB</code> key to auto-complete commands. Two <code>TAB</code> show the list of alternatives. \n",
    "Autocompletion is a great help in avoiding spelling errors!\n",
    "</div>"
   ]
  },
  {
   "cell_type": "markdown",
   "metadata": {},
   "source": [
    "### About namespaces\n",
    "\n",
    "The `np` prefix is called a *[namespace](https://www.google.com/search?q=python+namespace)* and helps avoiding confusion when \n",
    "different packages have a function with the same name. A classical example\n",
    "is the python [builtin `max()`]() and [numpy's `max()`](). \n",
    "We call the latter typing `np.max()`, so the \"namespace\" resolves the \n",
    "ambiguity.\n",
    "\n",
    "<div class=\"alert alert-warning\">\n",
    "<b>Trivia:</b><br>\n",
    "Can you find out the difference between the builtin <code>max()</code> and <code>np.max()</code>?\n",
    "</div>"
   ]
  },
  {
   "cell_type": "markdown",
   "metadata": {},
   "source": [
    "## Numpy array creation\n",
    "\n",
    "Manually entering an array:"
   ]
  },
  {
   "cell_type": "code",
   "execution_count": null,
   "metadata": {},
   "outputs": [],
   "source": [
    "np.array([[5, 2, 3],\n",
    "          [7, 8, 1]])  # NOTE: line splitting here is only for aesthestics"
   ]
  },
  {
   "cell_type": "markdown",
   "metadata": {},
   "source": [
    "Array of zeros:"
   ]
  },
  {
   "cell_type": "code",
   "execution_count": null,
   "metadata": {},
   "outputs": [],
   "source": [
    "np.zeros((3,2))  # NOTE the second set of ()"
   ]
  },
  {
   "cell_type": "markdown",
   "metadata": {},
   "source": [
    "Array of random values:"
   ]
  },
  {
   "cell_type": "code",
   "execution_count": null,
   "metadata": {},
   "outputs": [],
   "source": [
    "np.random.random((3,2))  # uniform distribution"
   ]
  },
  {
   "cell_type": "markdown",
   "metadata": {},
   "source": [
    "**Exercise:** Guess how to create a 3x4 array ones:"
   ]
  },
  {
   "cell_type": "code",
   "execution_count": null,
   "metadata": {},
   "outputs": [],
   "source": []
  },
  {
   "cell_type": "markdown",
   "metadata": {},
   "source": [
    "**Exercise:** Create an array of 10 numbers starting from 0 to 9 using the function [`np.arange`](https://docs.scipy.org/doc/numpy/reference/generated/numpy.arange.html):"
   ]
  },
  {
   "cell_type": "code",
   "execution_count": null,
   "metadata": {},
   "outputs": [],
   "source": []
  },
  {
   "cell_type": "markdown",
   "metadata": {},
   "source": [
    "See also: [Array creation cheatsheet](#Array-creation)"
   ]
  },
  {
   "cell_type": "markdown",
   "metadata": {},
   "source": [
    "## Numpy Indexing\n",
    "\n",
    "Indexing is a way to get one or more elements of the array.\n",
    "\n",
    "- Index starts at 0, i.e. 0 is the first element\n",
    "- Index can be negative: -1 is the last element, -2 is the second last, etc...\n",
    "\n",
    "### Scalars\n",
    "\n",
    "We can get one element at time with a scalar index:"
   ]
  },
  {
   "cell_type": "code",
   "execution_count": null,
   "metadata": {},
   "outputs": [],
   "source": [
    "x = np.arange(10)\n",
    "x"
   ]
  },
  {
   "cell_type": "code",
   "execution_count": null,
   "metadata": {},
   "outputs": [],
   "source": [
    "x[0], x[2], x[-1], x[-2]"
   ]
  },
  {
   "cell_type": "markdown",
   "metadata": {},
   "source": [
    "<div class=\"alert alert-info\">\n",
    "<b>NOTE for MATLAB users:</b><br>\n",
    "Python uses <code>[ ]</code> when indexing and <code>( )</code>\n",
    "when calling a function. MATLAB uses <code>( )</code> for both.\n",
    "</div>"
   ]
  },
  {
   "cell_type": "markdown",
   "metadata": {},
   "source": [
    "### Slicing\n",
    "\n",
    "We can also get a \"slice\" of the array with the following syntax.\n",
    "\n",
    "- Slice one dimension: **[start : stop : step]**\n",
    "\n",
    "- You can omit *start*, *stop* or *step* and this will happen:\n",
    "    1. omitting **start**: slices from the beginning\n",
    "    1. omitting **stop**: slice till the end\n",
    "    1. omitting **step**: use step=1\n",
    "    \n",
    "Before running the next cells try to \"predict\" the output of the following commands:"
   ]
  },
  {
   "cell_type": "code",
   "execution_count": null,
   "metadata": {},
   "outputs": [],
   "source": [
    "x[2:10]"
   ]
  },
  {
   "cell_type": "code",
   "execution_count": null,
   "metadata": {},
   "outputs": [],
   "source": [
    "x[2:10:3]"
   ]
  },
  {
   "cell_type": "code",
   "execution_count": null,
   "metadata": {},
   "outputs": [],
   "source": [
    "x[::]"
   ]
  },
  {
   "cell_type": "code",
   "execution_count": null,
   "metadata": {},
   "outputs": [],
   "source": [
    "x[:]"
   ]
  },
  {
   "cell_type": "code",
   "execution_count": null,
   "metadata": {},
   "outputs": [],
   "source": [
    "x[::2]"
   ]
  },
  {
   "cell_type": "code",
   "execution_count": null,
   "metadata": {},
   "outputs": [],
   "source": [
    "x[2::2]"
   ]
  },
  {
   "cell_type": "code",
   "execution_count": null,
   "metadata": {},
   "outputs": [],
   "source": [
    "x[::-1]"
   ]
  },
  {
   "cell_type": "markdown",
   "metadata": {},
   "source": [
    "**Exercise:** Discard the first and last elements in `x`, then take \n",
    "one every 2 of the remaining elements (output should be `array([1, 3, 5, 7])`):"
   ]
  },
  {
   "cell_type": "code",
   "execution_count": null,
   "metadata": {},
   "outputs": [],
   "source": []
  },
  {
   "cell_type": "markdown",
   "metadata": {},
   "source": [
    "<div class=\"alert alert-info\">\n",
    "<b>NOTE</b><br>\n",
    "Unlike in MATLAB, in Python indexing can be chained. For example\n",
    "<code>x[3:-1][::2]</code> is equivalent to <code>x[3:-1:2]</code>.\n",
    "</div>\n",
    "<br> \n",
    "\n",
    "**Exercise:** Discard the first two elements and the last elements in x, then invert the order. Try to get the result with two slices (`x[ ][ ]`) or with one slice (`x[ ]`):"
   ]
  },
  {
   "cell_type": "code",
   "execution_count": null,
   "metadata": {},
   "outputs": [],
   "source": []
  },
  {
   "cell_type": "code",
   "execution_count": null,
   "metadata": {},
   "outputs": [],
   "source": []
  },
  {
   "cell_type": "markdown",
   "metadata": {},
   "source": [
    "### Boolean mask\n",
    "\n",
    "Get all elements in `x` larger than 5:"
   ]
  },
  {
   "cell_type": "code",
   "execution_count": null,
   "metadata": {},
   "outputs": [],
   "source": [
    "x[x > 5]"
   ]
  },
  {
   "cell_type": "markdown",
   "metadata": {},
   "source": [
    "What is the object `x > 5`?"
   ]
  },
  {
   "cell_type": "code",
   "execution_count": null,
   "metadata": {},
   "outputs": [],
   "source": [
    "x > 5"
   ]
  },
  {
   "cell_type": "markdown",
   "metadata": {},
   "source": [
    "**Exercise:** Create an array `y` of 10 random numbers in [0..1], then select\n",
    "all the elements between 0.2 and 0.7:"
   ]
  },
  {
   "cell_type": "code",
   "execution_count": null,
   "metadata": {},
   "outputs": [],
   "source": []
  },
  {
   "cell_type": "markdown",
   "metadata": {},
   "source": [
    "Boolean masks can be negated with `~`, combined with `*` (**AND**) or `+` (**OR**) or compared with `==`.\n",
    "\n",
    "For example:"
   ]
  },
  {
   "cell_type": "code",
   "execution_count": null,
   "metadata": {},
   "outputs": [],
   "source": [
    "(~(x > 5))*(~(x < 7)) == ~((x > 5)+(x < 7))"
   ]
  },
  {
   "cell_type": "markdown",
   "metadata": {},
   "source": [
    "The previous expression always returns all True, for any `x`.\n",
    "This is called the [De Morgan Law](https://en.wikipedia.org/wiki/De_Morgan%27s_laws)\n",
    "in boolean logic."
   ]
  },
  {
   "cell_type": "code",
   "execution_count": null,
   "metadata": {},
   "outputs": [],
   "source": [
    "all((~(x > 5))*(~(x < 7)) == ~((x > 5)+(x < 7)))"
   ]
  },
  {
   "cell_type": "markdown",
   "metadata": {},
   "source": [
    "### 2D Arrays\n",
    "\n",
    "Numpy array can have multiple dimensions. Here it is a 2D array (it will be\n",
    "indexed by row, column):"
   ]
  },
  {
   "cell_type": "code",
   "execution_count": null,
   "metadata": {},
   "outputs": [],
   "source": [
    "A = np.arange(20).reshape(5, 4)\n",
    "A"
   ]
  },
  {
   "cell_type": "markdown",
   "metadata": {},
   "source": [
    "#### Indexing rules\n",
    "\n",
    "- Index: **[ rows, cols ]**\n",
    "- **row** or **cols** can be scalars, slices or arrays\n",
    "- Trailing dimension (`cols`) can be omitted\n",
    "\n",
    "> **MEMO:** Even for row and columns, index starts at 0!"
   ]
  },
  {
   "cell_type": "code",
   "execution_count": null,
   "metadata": {},
   "outputs": [],
   "source": [
    "A[1,2]"
   ]
  },
  {
   "cell_type": "code",
   "execution_count": null,
   "metadata": {},
   "outputs": [],
   "source": [
    "A[:2, :3]"
   ]
  },
  {
   "cell_type": "code",
   "execution_count": null,
   "metadata": {},
   "outputs": [],
   "source": [
    "A[0, :]"
   ]
  },
  {
   "cell_type": "code",
   "execution_count": null,
   "metadata": {},
   "outputs": [],
   "source": [
    "A[0]"
   ]
  },
  {
   "cell_type": "code",
   "execution_count": null,
   "metadata": {},
   "outputs": [],
   "source": [
    "A[0,0]"
   ]
  },
  {
   "cell_type": "code",
   "execution_count": null,
   "metadata": {},
   "outputs": [],
   "source": [
    "A[A>5]"
   ]
  },
  {
   "cell_type": "code",
   "execution_count": null,
   "metadata": {},
   "outputs": [],
   "source": [
    "A[::-1]"
   ]
  },
  {
   "cell_type": "markdown",
   "metadata": {},
   "source": [
    "<div class=\"alert alert-success\">\n",
    "<b>COMPLETION</b><br>\n",
    "If you mastered all the code above you are now a <b>powerful apprentice</b>!\n",
    "<br>\n",
    "<br>\n",
    "You are ready for the workshop. If you want, challenge yourself you'll find one more exercise below!\n",
    "</div>\n",
    "\n",
    "> Questions? Ask them on the slack channel!\n"
   ]
  },
  {
   "cell_type": "markdown",
   "metadata": {},
   "source": [
    "## Numpy Cheatsheets\n",
    "\n",
    "### Array creation\n",
    "\n",
    "In the following cheatsheet the `np.` prefix is omitted. Does the following make sense?\n",
    "\n",
    "![array creation cheatsheet](figures/Numpy%20tutorial%20-%20NRougier%20-%20array%20creation.png)\n",
    "> Source: [Numpy Tutorial](https://www.labri.fr/perso/nrougier/teaching/numpy/numpy.html#id6) by *Nicolas P. Rougier*.\n",
    "\n",
    "### Slicing cheatsheets 1\n",
    "\n",
    "At this point, you should be able to understand this:\n",
    "\n",
    "![Python-for-Data-Analysis_by_Wes_McKinney_mod.png](figures/Python-for-Data-Analysis_by_Wes_McKinney_mod.png)\n",
    "> Source: **Python for Data Analysis** by *Wes McKinney*, [Ch4. NumPy Basics: Arrays and Vectorized Computation](https://www.safaribooksonline.com/library/view/python-for-data/9781449323592/ch04.html).\n",
    "\n",
    "### Slicing cheatsheets 2\n",
    "\n",
    "A little bit more of \"slicing\" fun:\n",
    "\n",
    "![Numpy%20tutorial%20-%20NRougier%20-%20array%20slicing.png](figures/Numpy%20tutorial%20-%20NRougier%20-%20array%20slicing.png)\n",
    "> Source: [Numpy Tutorial](https://www.labri.fr/perso/nrougier/teaching/numpy/numpy.html#id6) by *Nicolas P. Rougier*.\n",
    "\n",
    "### Advanced Indexing\n",
    "\n",
    "**Exercise:** Given the 2D array `a` in the figure, can you index `a` \n",
    "to obtain the 3 selections highlighted by different colors?\n",
    "\n",
    "![numpy_fancy_indexing_nosolution.png](figures/numpy_fancy_indexing_nosolution.png)\n",
    "> Source: **Scipy Lecture Notes** by *Emmanuelle Gouillart, Didrik Pinte, Gaël Varoquaux, and Pauli Virtanen*. [Chapter: The Numpy Arrays Object](http://www.scipy-lectures.org/intro/numpy/numpy.html#the-numpy-array-object)"
   ]
  },
  {
   "cell_type": "code",
   "execution_count": null,
   "metadata": {},
   "outputs": [],
   "source": [
    "# Here I create `a` for you\n",
    "a = np.arange(0, 51, 10)[:,np.newaxis] + np.arange(6)  # broadcasting trick\n",
    "a"
   ]
  },
  {
   "cell_type": "code",
   "execution_count": null,
   "metadata": {},
   "outputs": [],
   "source": []
  },
  {
   "cell_type": "code",
   "execution_count": null,
   "metadata": {},
   "outputs": [],
   "source": []
  },
  {
   "cell_type": "markdown",
   "metadata": {},
   "source": [
    "# References\n",
    "\n",
    "## Basic and Intermediate\n",
    "\n",
    "- [Numpy Tutorial](https://www.labri.fr/perso/nrougier/teaching/numpy/numpy.html#quick-references) by *Nicolas P. Rougier*\n",
    "\n",
    "> Get hooked with Numpy by simulating the [game of life](https://en.wikipedia.org/wiki/Conway%27s_Game_of_Life),\n",
    ">\n",
    "> solve some [one-line numpy trivia](https://www.labri.fr/perso/nrougier/teaching/numpy/numpy.html#exercises),\n",
    ">\n",
    "> or, skip to the [Quick Reference](https://www.labri.fr/perso/nrougier/teaching/numpy/numpy.html#quick-references) section for great graphical examples \n",
    "> of Numpy's indexing.\n",
    "\n",
    "- [NumPy: creating and manipulating numerical data](http://www.scipy-lectures.org/intro/numpy/numpy.html#the-numpy-array-object) by *Emmanuelle Gouillart, Didrik Pinte, Gaël Varoquaux, and Pauli Virtanen*\n",
    "\n",
    "> Chapter about Numpy from the famous **Scipy Lecture Notes** book.\n",
    "\n",
    "## Advanced\n",
    "\n",
    "This is more advanced material not covered in the workshop:\n",
    "\n",
    "- [Elegant Scipy - Ch 1](https://www.safaribooksonline.com/library/view/elegant-scipy/9781491922927/ch01.html) by *Harriet Dashnow, Stéfan van der Walt, Juan Nunez-Iglesias*\n",
    "\n",
    "> This free chapter of the *Elegant Scipy* book shows the power and elegance of Numpy\n",
    "> by analyzing gene-expression data.\n",
    "\n",
    "\n",
    "- https://docs.scipy.org/doc/numpy/reference/arrays.indexing.html#advanced-indexing\n",
    "\n",
    "> The official reference of advanced indexing\n",
    "\n",
    "- https://jakevdp.github.io/PythonDataScienceHandbook/02.07-fancy-indexing.html\n",
    "\n",
    "> Good explanation of fancy indexing using 2D arrays as examples.\n",
    " \n",
    " \n",
    "- https://github.com/stefanv/teaching/blob/master/2010_scipy_numpy_kittens_dragons/kittens_dragons_scipy2010.pdf\n",
    "\n",
    "> Array broadcasting explained with figures, plus the classical \"Jack's problem\" from the mailing list\n",
    "\n",
    "- https://stackoverflow.com/questions/11942747/numpy-multi-dimensional-array-indexing-swaps-axis-order\n",
    "\n",
    "> Why axis are reordered when fancy indexing is mixed with basic indexing?"
   ]
  },
  {
   "cell_type": "markdown",
   "metadata": {},
   "source": [
    "## Hinc Sunt Leones\n",
    "\n",
    "- [Einstein Summation in Numpy](https://obilaniu6266h16.wordpress.com/2016/02/04/einstein-summation-in-numpy/)"
   ]
  }
 ],
 "metadata": {
  "kernelspec": {
   "display_name": "Python 3.6 (py36)",
   "language": "python",
   "name": "py36"
  },
  "language_info": {
   "codemirror_mode": {
    "name": "ipython",
    "version": 3
   },
   "file_extension": ".py",
   "mimetype": "text/x-python",
   "name": "python",
   "nbconvert_exporter": "python",
   "pygments_lexer": "ipython3",
   "version": "3.6.4"
  },
  "toc": {
   "nav_menu": {},
   "number_sections": false,
   "sideBar": true,
   "skip_h1_title": false,
   "toc_cell": false,
   "toc_position": {
    "height": "594px",
    "left": "0px",
    "right": "913px",
    "top": "111px",
    "width": "212px"
   },
   "toc_section_display": "block",
   "toc_window_display": true
  }
 },
 "nbformat": 4,
 "nbformat_minor": 2
}
